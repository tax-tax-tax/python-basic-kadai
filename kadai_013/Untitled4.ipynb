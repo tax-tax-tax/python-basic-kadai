{
  "nbformat": 4,
  "nbformat_minor": 0,
  "metadata": {
    "colab": {
      "provenance": []
    },
    "kernelspec": {
      "name": "python3",
      "display_name": "Python 3"
    },
    "language_info": {
      "name": "python"
    }
  },
  "cells": [
    {
      "cell_type": "code",
      "execution_count": 6,
      "metadata": {
        "colab": {
          "base_uri": "https://localhost:8080/"
        },
        "id": "W81jVYoCmx6v",
        "outputId": "45cc04b6-294b-4ea5-cf6b-c7ae5b478e4d"
      },
      "outputs": [
        {
          "output_type": "stream",
          "name": "stdout",
          "text": [
            "1320.0円\n"
          ]
        }
      ],
      "source": [
        "def calculate_total(price,tax):\n",
        "  total = price + (price * tax)\n",
        "  print(f\"{total}円\")\n",
        "\n",
        "calculate_total(1200, 0.1)"
      ]
    }
  ]
}