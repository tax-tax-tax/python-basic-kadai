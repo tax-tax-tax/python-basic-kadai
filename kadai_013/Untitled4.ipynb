{
  "nbformat": 4,
  "nbformat_minor": 0,
  "metadata": {
    "colab": {
      "provenance": []
    },
    "kernelspec": {
      "name": "python3",
      "display_name": "Python 3"
    },
    "language_info": {
      "name": "python"
    }
  },
  "cells": [
    {
      "cell_type": "code",
      "execution_count": 4,
      "metadata": {
        "colab": {
          "base_uri": "https://localhost:8080/"
        },
        "id": "W81jVYoCmx6v",
        "outputId": "8e2c91fd-9fd1-43ec-809d-e5b1e0f1b673"
      },
      "outputs": [
        {
          "output_type": "execute_result",
          "data": {
            "text/plain": [
              "1320.0"
            ]
          },
          "metadata": {},
          "execution_count": 4
        }
      ],
      "source": [
        "def calculate_total(price,tax):\n",
        "  total = price + (price * tax)\n",
        "  return total\n",
        "\n",
        "calculate_total(1200, 0.1)"
      ]
    }
  ]
}