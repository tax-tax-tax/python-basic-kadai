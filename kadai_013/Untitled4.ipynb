{
  "nbformat": 4,
  "nbformat_minor": 0,
  "metadata": {
    "colab": {
      "provenance": []
    },
    "kernelspec": {
      "name": "python3",
      "display_name": "Python 3"
    },
    "language_info": {
      "name": "python"
    }
  },
  "cells": [
    {
      "cell_type": "code",
      "execution_count": 21,
      "metadata": {
        "colab": {
          "base_uri": "https://localhost:8080/"
        },
        "id": "W81jVYoCmx6v",
        "outputId": "f932761b-8ccd-43a7-fd8f-9987c4ecac82"
      },
      "outputs": [
        {
          "output_type": "stream",
          "name": "stdout",
          "text": [
            "1320.0\n"
          ]
        }
      ],
      "source": [
        "def calculate_total(price,tax):\n",
        "  total = price + (price * tax)\n",
        "  return total\n",
        "\n",
        "total = calculate_total(1200, 0.1)\n",
        "print(total)"
      ]
    }
  ]
}