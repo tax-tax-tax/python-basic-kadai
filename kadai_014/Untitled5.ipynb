{
  "nbformat": 4,
  "nbformat_minor": 0,
  "metadata": {
    "colab": {
      "provenance": []
    },
    "kernelspec": {
      "name": "python3",
      "display_name": "Python 3"
    },
    "language_info": {
      "name": "python"
    }
  },
  "cells": [
    {
      "cell_type": "code",
      "execution_count": 9,
      "metadata": {
        "id": "EiY9nLHaPdfQ",
        "colab": {
          "base_uri": "https://localhost:8080/"
        },
        "outputId": "e2ebead4-1dcd-435d-8426-b81f57082856"
      },
      "outputs": [
        {
          "output_type": "stream",
          "name": "stdout",
          "text": [
            "330.0\n"
          ]
        }
      ],
      "source": [
        "def total(price1,price2,tax):\n",
        "  total_price = (price1 + price2) * tax\n",
        "  return total_price\n",
        "\n",
        "total_price = total(100,200,1.1)\n",
        "print (total_price)"
      ]
    }
  ]
}