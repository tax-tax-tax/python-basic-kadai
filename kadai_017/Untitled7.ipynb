{
  "nbformat": 4,
  "nbformat_minor": 0,
  "metadata": {
    "colab": {
      "provenance": []
    },
    "kernelspec": {
      "name": "python3",
      "display_name": "Python 3"
    },
    "language_info": {
      "name": "python"
    }
  },
  "cells": [
    {
      "cell_type": "code",
      "execution_count": 34,
      "metadata": {
        "id": "OT70ikklbxWU",
        "colab": {
          "base_uri": "https://localhost:8080/"
        },
        "outputId": "c35c32ae-3cf3-42d0-ef32-3404116c741f"
      },
      "outputs": [
        {
          "output_type": "stream",
          "name": "stdout",
          "text": [
            "大人です\n",
            "大人です\n",
            "大人です\n",
            "大人ではありません\n"
          ]
        }
      ],
      "source": [
        "class Human:\n",
        "  def __init__(self,name,age):\n",
        "    self.name = name\n",
        "    self.age = age\n",
        "\n",
        "  def check_adult(self):\n",
        "      if self.age >= 20:\n",
        "        print(\"大人です\")\n",
        "\n",
        "      else:\n",
        "        print(\"大人ではありません\")\n",
        "\n",
        "person = [Human(\"taro\",20),Human(\"hanako\",99),Human(\"pochi\",21),Human(\"shiro\",19)]\n",
        "\n",
        "for i in person:\n",
        "  i.check_adult()"
      ]
    }
  ]
}