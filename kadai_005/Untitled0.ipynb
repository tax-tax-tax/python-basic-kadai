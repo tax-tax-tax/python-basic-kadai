{
  "nbformat": 4,
  "nbformat_minor": 0,
  "metadata": {
    "colab": {
      "provenance": []
    },
    "kernelspec": {
      "name": "python3",
      "display_name": "Python 3"
    },
    "language_info": {
      "name": "python"
    }
  },
  "cells": [
    {
      "cell_type": "code",
      "execution_count": 1,
      "metadata": {
        "id": "fdB4DOOdoc4o",
        "outputId": "93242786-79d0-427b-cc55-52f2a19ac165",
        "colab": {
          "base_uri": "https://localhost:8080/"
        }
      },
      "outputs": [
        {
          "output_type": "stream",
          "name": "stdout",
          "text": [
            "75.0cm²\n"
          ]
        }
      ],
      "source": [
        "jouhen = 10\n",
        "kahen = 20\n",
        "takasa = 5\n",
        "formula = (jouhen + kahen) * takasa / 2\n",
        "\n",
        "print(f\"{formula}cm²\")"
      ]
    }
  ]
}